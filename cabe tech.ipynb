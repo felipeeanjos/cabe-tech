{
 "cells": [
  {
   "cell_type": "code",
   "execution_count": 124,
   "id": "1ea3ec45",
   "metadata": {},
   "outputs": [],
   "source": [
    "import pandas as pd\n",
    "import matplotlib.pyplot as plt\n",
    "import seaborn as sns\n",
    "import numpy as np\n",
    "from sklearn.model_selection import train_test_split\n",
    "from sklearn.cluster import AgglomerativeClustering\n",
    "import scipy.cluster.hierarchy as shc"
   ]
  },
  {
   "cell_type": "code",
   "execution_count": 76,
   "id": "c5d2b0ff",
   "metadata": {},
   "outputs": [],
   "source": [
    "idade = pd.Series(np.random.randint(15,50,1000))"
   ]
  },
  {
   "cell_type": "code",
   "execution_count": 77,
   "id": "db3e9ed3",
   "metadata": {},
   "outputs": [],
   "source": [
    "deficiencia = pd.Series(np.random.randint(0,3,1000))"
   ]
  },
  {
   "cell_type": "markdown",
   "id": "30e584ae",
   "metadata": {},
   "source": [
    "0 não apresenta deficiência \n",
    "\n",
    "\n",
    "1 apresenta deficiência visual\n",
    "\n",
    "\n",
    "2 apresenta deficiência auditiva"
   ]
  },
  {
   "cell_type": "code",
   "execution_count": 78,
   "id": "6f0e2395",
   "metadata": {},
   "outputs": [
    {
     "data": {
      "text/plain": [
       "1    336\n",
       "0    335\n",
       "2    329\n",
       "dtype: int64"
      ]
     },
     "execution_count": 78,
     "metadata": {},
     "output_type": "execute_result"
    }
   ],
   "source": [
    "deficiencia.value_counts()"
   ]
  },
  {
   "cell_type": "code",
   "execution_count": 79,
   "id": "6e086117",
   "metadata": {},
   "outputs": [],
   "source": [
    "cpf = pd.Series(np.random.randint(10000,50000,1000))"
   ]
  },
  {
   "cell_type": "code",
   "execution_count": 80,
   "id": "5d2c601c",
   "metadata": {},
   "outputs": [],
   "source": [
    "visitante_tipo = pd.Series(np.random.randint(0,2,1000))"
   ]
  },
  {
   "cell_type": "code",
   "execution_count": 81,
   "id": "f20fe00a",
   "metadata": {},
   "outputs": [],
   "source": [
    "tempo_medio_min = pd.Series(np.random.randint(1,121,1000))"
   ]
  },
  {
   "cell_type": "markdown",
   "id": "24377924",
   "metadata": {},
   "source": [
    "tempo médio é composto pelos acessos/tempo online em loja física"
   ]
  },
  {
   "cell_type": "code",
   "execution_count": 82,
   "id": "277ccd04",
   "metadata": {},
   "outputs": [],
   "source": [
    "cols = ['deficiencia','cpf','idade','visitante_tipo','tempo_medio_min']"
   ]
  },
  {
   "cell_type": "code",
   "execution_count": 89,
   "id": "4c20b74a",
   "metadata": {},
   "outputs": [],
   "source": [
    "series = [deficiencia,cpf,idade,visitante_tipo,tempo_medio_min]"
   ]
  },
  {
   "cell_type": "code",
   "execution_count": 111,
   "id": "737580af",
   "metadata": {},
   "outputs": [],
   "source": [
    "df = pd.DataFrame(columns=cols)"
   ]
  },
  {
   "cell_type": "code",
   "execution_count": 112,
   "id": "b4c2b28f",
   "metadata": {},
   "outputs": [],
   "source": [
    "df.deficiencia = deficiencia\n",
    "df.cpf = cpf\n",
    "df.idade = idade\n",
    "df.visitante_tipo = visitante_tipo\n",
    "df.tempo_medio_min = tempo_medio_min"
   ]
  },
  {
   "cell_type": "code",
   "execution_count": 113,
   "id": "c8855e14",
   "metadata": {},
   "outputs": [
    {
     "data": {
      "text/html": [
       "<div>\n",
       "<style scoped>\n",
       "    .dataframe tbody tr th:only-of-type {\n",
       "        vertical-align: middle;\n",
       "    }\n",
       "\n",
       "    .dataframe tbody tr th {\n",
       "        vertical-align: top;\n",
       "    }\n",
       "\n",
       "    .dataframe thead th {\n",
       "        text-align: right;\n",
       "    }\n",
       "</style>\n",
       "<table border=\"1\" class=\"dataframe\">\n",
       "  <thead>\n",
       "    <tr style=\"text-align: right;\">\n",
       "      <th></th>\n",
       "      <th>deficiencia</th>\n",
       "      <th>cpf</th>\n",
       "      <th>idade</th>\n",
       "      <th>visitante_tipo</th>\n",
       "      <th>tempo_medio_min</th>\n",
       "    </tr>\n",
       "  </thead>\n",
       "  <tbody>\n",
       "    <tr>\n",
       "      <th>0</th>\n",
       "      <td>1</td>\n",
       "      <td>49782</td>\n",
       "      <td>29</td>\n",
       "      <td>0</td>\n",
       "      <td>52</td>\n",
       "    </tr>\n",
       "    <tr>\n",
       "      <th>1</th>\n",
       "      <td>2</td>\n",
       "      <td>38202</td>\n",
       "      <td>39</td>\n",
       "      <td>0</td>\n",
       "      <td>96</td>\n",
       "    </tr>\n",
       "    <tr>\n",
       "      <th>2</th>\n",
       "      <td>0</td>\n",
       "      <td>29841</td>\n",
       "      <td>46</td>\n",
       "      <td>0</td>\n",
       "      <td>35</td>\n",
       "    </tr>\n",
       "    <tr>\n",
       "      <th>3</th>\n",
       "      <td>1</td>\n",
       "      <td>35566</td>\n",
       "      <td>49</td>\n",
       "      <td>0</td>\n",
       "      <td>77</td>\n",
       "    </tr>\n",
       "    <tr>\n",
       "      <th>4</th>\n",
       "      <td>1</td>\n",
       "      <td>35044</td>\n",
       "      <td>38</td>\n",
       "      <td>0</td>\n",
       "      <td>112</td>\n",
       "    </tr>\n",
       "    <tr>\n",
       "      <th>...</th>\n",
       "      <td>...</td>\n",
       "      <td>...</td>\n",
       "      <td>...</td>\n",
       "      <td>...</td>\n",
       "      <td>...</td>\n",
       "    </tr>\n",
       "    <tr>\n",
       "      <th>995</th>\n",
       "      <td>2</td>\n",
       "      <td>36539</td>\n",
       "      <td>34</td>\n",
       "      <td>0</td>\n",
       "      <td>81</td>\n",
       "    </tr>\n",
       "    <tr>\n",
       "      <th>996</th>\n",
       "      <td>2</td>\n",
       "      <td>28665</td>\n",
       "      <td>19</td>\n",
       "      <td>0</td>\n",
       "      <td>100</td>\n",
       "    </tr>\n",
       "    <tr>\n",
       "      <th>997</th>\n",
       "      <td>2</td>\n",
       "      <td>30929</td>\n",
       "      <td>33</td>\n",
       "      <td>1</td>\n",
       "      <td>52</td>\n",
       "    </tr>\n",
       "    <tr>\n",
       "      <th>998</th>\n",
       "      <td>0</td>\n",
       "      <td>21386</td>\n",
       "      <td>22</td>\n",
       "      <td>0</td>\n",
       "      <td>80</td>\n",
       "    </tr>\n",
       "    <tr>\n",
       "      <th>999</th>\n",
       "      <td>0</td>\n",
       "      <td>21787</td>\n",
       "      <td>28</td>\n",
       "      <td>0</td>\n",
       "      <td>42</td>\n",
       "    </tr>\n",
       "  </tbody>\n",
       "</table>\n",
       "<p>1000 rows × 5 columns</p>\n",
       "</div>"
      ],
      "text/plain": [
       "     deficiencia    cpf  idade  visitante_tipo  tempo_medio_min\n",
       "0              1  49782     29               0               52\n",
       "1              2  38202     39               0               96\n",
       "2              0  29841     46               0               35\n",
       "3              1  35566     49               0               77\n",
       "4              1  35044     38               0              112\n",
       "..           ...    ...    ...             ...              ...\n",
       "995            2  36539     34               0               81\n",
       "996            2  28665     19               0              100\n",
       "997            2  30929     33               1               52\n",
       "998            0  21386     22               0               80\n",
       "999            0  21787     28               0               42\n",
       "\n",
       "[1000 rows x 5 columns]"
      ]
     },
     "execution_count": 113,
     "metadata": {},
     "output_type": "execute_result"
    }
   ],
   "source": [
    "df"
   ]
  },
  {
   "cell_type": "code",
   "execution_count": 119,
   "id": "23188534",
   "metadata": {},
   "outputs": [],
   "source": [
    "clus = AgglomerativeClustering(linkage=\"complete\", \n",
    "                                 distance_threshold = None, \n",
    "                                 n_clusters=4)"
   ]
  },
  {
   "cell_type": "code",
   "execution_count": 121,
   "id": "6935dc19",
   "metadata": {},
   "outputs": [
    {
     "data": {
      "text/plain": [
       "AgglomerativeClustering(linkage='complete', n_clusters=4)"
      ]
     },
     "execution_count": 121,
     "metadata": {},
     "output_type": "execute_result"
    }
   ],
   "source": [
    "clus.fit(df)"
   ]
  },
  {
   "cell_type": "code",
   "execution_count": 122,
   "id": "f744945d",
   "metadata": {},
   "outputs": [],
   "source": [
    "df['grupos'] = clus.labels_"
   ]
  },
  {
   "cell_type": "code",
   "execution_count": 125,
   "id": "e5f72a8d",
   "metadata": {},
   "outputs": [
    {
     "data": {
      "image/png": "[encoded data removed]",
      "text/plain": [
       "<Figure size 432x288 with 1 Axes>"
      ]
     },
     "metadata": {
      "needs_background": "light"
     },
     "output_type": "display_data"
    }
   ],
   "source": [
    "dend = shc.dendrogram(shc.linkage(df, method='complete'))"
   ]
  },
  {
   "cell_type": "code",
   "execution_count": 130,
   "id": "97085b3a",
   "metadata": {},
   "outputs": [],
   "source": [
    "df2 = df.copy()"
   ]
  },
  {
   "cell_type": "code",
   "execution_count": 132,
   "id": "4725702f",
   "metadata": {},
   "outputs": [
    {
     "data": {
      "text/html": [
       "<div>\n",
       "<style scoped>\n",
       "    .dataframe tbody tr th:only-of-type {\n",
       "        vertical-align: middle;\n",
       "    }\n",
       "\n",
       "    .dataframe tbody tr th {\n",
       "        vertical-align: top;\n",
       "    }\n",
       "\n",
       "    .dataframe thead th {\n",
       "        text-align: right;\n",
       "    }\n",
       "</style>\n",
       "<table border=\"1\" class=\"dataframe\">\n",
       "  <thead>\n",
       "    <tr style=\"text-align: right;\">\n",
       "      <th></th>\n",
       "      <th>count</th>\n",
       "      <th>mean</th>\n",
       "      <th>std</th>\n",
       "      <th>min</th>\n",
       "      <th>25%</th>\n",
       "      <th>50%</th>\n",
       "      <th>75%</th>\n",
       "      <th>max</th>\n",
       "    </tr>\n",
       "  </thead>\n",
       "  <tbody>\n",
       "    <tr>\n",
       "      <th>deficiencia</th>\n",
       "      <td>1000.0</td>\n",
       "      <td>0.994</td>\n",
       "      <td>0.815248</td>\n",
       "      <td>0.0</td>\n",
       "      <td>0.00</td>\n",
       "      <td>1.0</td>\n",
       "      <td>2.00</td>\n",
       "      <td>2.0</td>\n",
       "    </tr>\n",
       "    <tr>\n",
       "      <th>cpf</th>\n",
       "      <td>1000.0</td>\n",
       "      <td>29838.113</td>\n",
       "      <td>11371.116412</td>\n",
       "      <td>10000.0</td>\n",
       "      <td>20277.75</td>\n",
       "      <td>29513.0</td>\n",
       "      <td>39577.75</td>\n",
       "      <td>49968.0</td>\n",
       "    </tr>\n",
       "    <tr>\n",
       "      <th>idade</th>\n",
       "      <td>1000.0</td>\n",
       "      <td>31.605</td>\n",
       "      <td>10.211525</td>\n",
       "      <td>15.0</td>\n",
       "      <td>22.00</td>\n",
       "      <td>31.0</td>\n",
       "      <td>41.00</td>\n",
       "      <td>49.0</td>\n",
       "    </tr>\n",
       "    <tr>\n",
       "      <th>visitante_tipo</th>\n",
       "      <td>1000.0</td>\n",
       "      <td>0.511</td>\n",
       "      <td>0.500129</td>\n",
       "      <td>0.0</td>\n",
       "      <td>0.00</td>\n",
       "      <td>1.0</td>\n",
       "      <td>1.00</td>\n",
       "      <td>1.0</td>\n",
       "    </tr>\n",
       "    <tr>\n",
       "      <th>tempo_medio_min</th>\n",
       "      <td>1000.0</td>\n",
       "      <td>59.556</td>\n",
       "      <td>34.591436</td>\n",
       "      <td>1.0</td>\n",
       "      <td>29.00</td>\n",
       "      <td>60.0</td>\n",
       "      <td>90.00</td>\n",
       "      <td>120.0</td>\n",
       "    </tr>\n",
       "    <tr>\n",
       "      <th>grupos</th>\n",
       "      <td>1000.0</td>\n",
       "      <td>1.259</td>\n",
       "      <td>1.139833</td>\n",
       "      <td>0.0</td>\n",
       "      <td>0.00</td>\n",
       "      <td>1.0</td>\n",
       "      <td>2.00</td>\n",
       "      <td>3.0</td>\n",
       "    </tr>\n",
       "  </tbody>\n",
       "</table>\n",
       "</div>"
      ],
      "text/plain": [
       "                  count       mean           std      min       25%      50%  \\\n",
       "deficiencia      1000.0      0.994      0.815248      0.0      0.00      1.0   \n",
       "cpf              1000.0  29838.113  11371.116412  10000.0  20277.75  29513.0   \n",
       "idade            1000.0     31.605     10.211525     15.0     22.00     31.0   \n",
       "visitante_tipo   1000.0      0.511      0.500129      0.0      0.00      1.0   \n",
       "tempo_medio_min  1000.0     59.556     34.591436      1.0     29.00     60.0   \n",
       "grupos           1000.0      1.259      1.139833      0.0      0.00      1.0   \n",
       "\n",
       "                      75%      max  \n",
       "deficiencia          2.00      2.0  \n",
       "cpf              39577.75  49968.0  \n",
       "idade               41.00     49.0  \n",
       "visitante_tipo       1.00      1.0  \n",
       "tempo_medio_min     90.00    120.0  \n",
       "grupos               2.00      3.0  "
      ]
     },
     "execution_count": 132,
     "metadata": {},
     "output_type": "execute_result"
    }
   ],
   "source": [
    "df.describe().transpose()"
   ]
  },
  {
   "cell_type": "code",
   "execution_count": 136,
   "id": "d9878955",
   "metadata": {},
   "outputs": [],
   "source": [
    "faixas_etarias = [0,15,22,31,41,50]"
   ]
  },
  {
   "cell_type": "code",
   "execution_count": 137,
   "id": "bbc67b32",
   "metadata": {},
   "outputs": [],
   "source": [
    "df['faixa_etaria'] = pd.cut(df['idade'], faixas_etarias)"
   ]
  },
  {
   "cell_type": "code",
   "execution_count": 145,
   "id": "f552861f",
   "metadata": {},
   "outputs": [
    {
     "data": {
      "text/plain": [
       "<AxesSubplot:xlabel='faixa_etaria'>"
      ]
     },
     "execution_count": 145,
     "metadata": {},
     "output_type": "execute_result"
    },
    {
     "data": {
      "image/png": "[encoded data removed]",
      "text/plain": [
       "<Figure size 432x288 with 1 Axes>"
      ]
     },
     "metadata": {
      "needs_background": "light"
     },
     "output_type": "display_data"
    }
   ],
   "source": [
    "pd.crosstab(df['faixa_etaria'], df['grupos']).plot()"
   ]
  },
  {
   "cell_type": "code",
   "execution_count": 148,
   "id": "f7456247",
   "metadata": {},
   "outputs": [],
   "source": [
    "faixa_tempo = [0,29,60,90,121]"
   ]
  },
  {
   "cell_type": "code",
   "execution_count": 152,
   "id": "d284d20f",
   "metadata": {},
   "outputs": [],
   "source": [
    "df['faixa_tempo'] = pd.cut(df['tempo_medio_min'], faixa_tempo)"
   ]
  },
  {
   "cell_type": "code",
   "execution_count": 153,
   "id": "24f07897",
   "metadata": {},
   "outputs": [
    {
     "data": {
      "text/plain": [
       "<AxesSubplot:xlabel='faixa_tempo'>"
      ]
     },
     "execution_count": 153,
     "metadata": {},
     "output_type": "execute_result"
    },
    {
     "data": {
      "image/png": "[encoded data removed]",
      "text/plain": [
       "<Figure size 432x288 with 1 Axes>"
      ]
     },
     "metadata": {
      "needs_background": "light"
     },
     "output_type": "display_data"
    }
   ],
   "source": [
    "pd.crosstab(df['faixa_tempo'],df['grupos']).plot()"
   ]
  }
 ],
 "metadata": {
  "kernelspec": {
   "display_name": "Python 3 (ipykernel)",
   "language": "python",
   "name": "python3"
  },
  "language_info": {
   "codemirror_mode": {
    "name": "ipython",
    "version": 3
   },
   "file_extension": ".py",
   "mimetype": "text/x-python",
   "name": "python",
   "nbconvert_exporter": "python",
   "pygments_lexer": "ipython3",
   "version": "3.9.12"
  }
 },
 "nbformat": 4,
 "nbformat_minor": 5
}
