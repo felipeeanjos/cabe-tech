{
 "cells": [
  {
   "cell_type": "code",
   "execution_count": 1,
   "id": "76c67a7d",
   "metadata": {},
   "outputs": [],
   "source": [
    "import pandas as pd\n",
    "import matplotlib.pyplot as plt\n",
    "import seaborn as sns\n",
    "import numpy as np\n",
    "from sklearn.model_selection import train_test_split\n",
    "from sklearn.cluster import AgglomerativeClustering\n",
    "import scipy.cluster.hierarchy as shc"
   ]
  },
  {
   "cell_type": "code",
   "execution_count": 2,
   "id": "298e4b86",
   "metadata": {},
   "outputs": [],
   "source": [
    "idade = pd.Series(np.random.randint(15,50,1000))"
   ]
  },
  {
   "cell_type": "code",
   "execution_count": 3,
   "id": "fe5dee5f",
   "metadata": {},
   "outputs": [],
   "source": [
    "deficiencia = pd.Series(np.random.randint(0,3,1000))"
   ]
  },
  {
   "cell_type": "markdown",
   "id": "c4458b6b",
   "metadata": {},
   "source": [
    "0 não apresenta deficiência \n",
    "\n",
    "\n",
    "1 apresenta deficiência visual\n",
    "\n",
    "\n",
    "2 apresenta deficiência auditiva"
   ]
  },
  {
   "cell_type": "code",
   "execution_count": 4,
   "id": "d890e0d6",
   "metadata": {},
   "outputs": [
    {
     "data": {
      "text/plain": [
       "0    344\n",
       "1    336\n",
       "2    320\n",
       "dtype: int64"
      ]
     },
     "execution_count": 4,
     "metadata": {},
     "output_type": "execute_result"
    }
   ],
   "source": [
    "deficiencia.value_counts()"
   ]
  },
  {
   "cell_type": "code",
   "execution_count": 5,
   "id": "5a5df56a",
   "metadata": {},
   "outputs": [],
   "source": [
    "cpf = pd.Series(np.random.randint(10000,50000,1000))"
   ]
  },
  {
   "cell_type": "code",
   "execution_count": 6,
   "id": "c9b5bffa",
   "metadata": {},
   "outputs": [],
   "source": [
    "visitante_tipo = pd.Series(np.random.randint(0,2,1000))"
   ]
  },
  {
   "cell_type": "code",
   "execution_count": 7,
   "id": "726874e1",
   "metadata": {},
   "outputs": [],
   "source": [
    "tempo_medio_min = pd.Series(np.random.randint(1,121,1000))"
   ]
  },
  {
   "cell_type": "markdown",
   "id": "41af3d01",
   "metadata": {},
   "source": [
    "tempo médio é composto pelos acessos/tempo online em loja física"
   ]
  },
  {
   "cell_type": "code",
   "execution_count": 8,
   "id": "ab76613f",
   "metadata": {},
   "outputs": [],
   "source": [
    "cols = ['deficiencia','cpf','idade','visitante_tipo','tempo_medio_min']"
   ]
  },
  {
   "cell_type": "code",
   "execution_count": 9,
   "id": "0e8d1649",
   "metadata": {},
   "outputs": [],
   "source": [
    "series = [deficiencia,cpf,idade,visitante_tipo,tempo_medio_min]"
   ]
  },
  {
   "cell_type": "code",
   "execution_count": 10,
   "id": "c9fa5b46",
   "metadata": {},
   "outputs": [],
   "source": [
    "df = pd.DataFrame(columns=cols)"
   ]
  },
  {
   "cell_type": "code",
   "execution_count": 11,
   "id": "23752883",
   "metadata": {},
   "outputs": [],
   "source": [
    "df.deficiencia = deficiencia\n",
    "df.cpf = cpf\n",
    "df.idade = idade\n",
    "df.visitante_tipo = visitante_tipo\n",
    "df.tempo_medio_min = tempo_medio_min"
   ]
  },
  {
   "cell_type": "code",
   "execution_count": 12,
   "id": "f6009889",
   "metadata": {},
   "outputs": [
    {
     "data": {
      "text/html": [
       "<div>\n",
       "<style scoped>\n",
       "    .dataframe tbody tr th:only-of-type {\n",
       "        vertical-align: middle;\n",
       "    }\n",
       "\n",
       "    .dataframe tbody tr th {\n",
       "        vertical-align: top;\n",
       "    }\n",
       "\n",
       "    .dataframe thead th {\n",
       "        text-align: right;\n",
       "    }\n",
       "</style>\n",
       "<table border=\"1\" class=\"dataframe\">\n",
       "  <thead>\n",
       "    <tr style=\"text-align: right;\">\n",
       "      <th></th>\n",
       "      <th>deficiencia</th>\n",
       "      <th>cpf</th>\n",
       "      <th>idade</th>\n",
       "      <th>visitante_tipo</th>\n",
       "      <th>tempo_medio_min</th>\n",
       "    </tr>\n",
       "  </thead>\n",
       "  <tbody>\n",
       "    <tr>\n",
       "      <th>0</th>\n",
       "      <td>0</td>\n",
       "      <td>47036</td>\n",
       "      <td>24</td>\n",
       "      <td>0</td>\n",
       "      <td>15</td>\n",
       "    </tr>\n",
       "    <tr>\n",
       "      <th>1</th>\n",
       "      <td>0</td>\n",
       "      <td>46705</td>\n",
       "      <td>23</td>\n",
       "      <td>0</td>\n",
       "      <td>15</td>\n",
       "    </tr>\n",
       "    <tr>\n",
       "      <th>2</th>\n",
       "      <td>0</td>\n",
       "      <td>42276</td>\n",
       "      <td>44</td>\n",
       "      <td>0</td>\n",
       "      <td>69</td>\n",
       "    </tr>\n",
       "    <tr>\n",
       "      <th>3</th>\n",
       "      <td>1</td>\n",
       "      <td>43024</td>\n",
       "      <td>37</td>\n",
       "      <td>0</td>\n",
       "      <td>25</td>\n",
       "    </tr>\n",
       "    <tr>\n",
       "      <th>4</th>\n",
       "      <td>2</td>\n",
       "      <td>36156</td>\n",
       "      <td>37</td>\n",
       "      <td>0</td>\n",
       "      <td>33</td>\n",
       "    </tr>\n",
       "    <tr>\n",
       "      <th>...</th>\n",
       "      <td>...</td>\n",
       "      <td>...</td>\n",
       "      <td>...</td>\n",
       "      <td>...</td>\n",
       "      <td>...</td>\n",
       "    </tr>\n",
       "    <tr>\n",
       "      <th>995</th>\n",
       "      <td>2</td>\n",
       "      <td>20161</td>\n",
       "      <td>32</td>\n",
       "      <td>1</td>\n",
       "      <td>103</td>\n",
       "    </tr>\n",
       "    <tr>\n",
       "      <th>996</th>\n",
       "      <td>1</td>\n",
       "      <td>19735</td>\n",
       "      <td>39</td>\n",
       "      <td>1</td>\n",
       "      <td>60</td>\n",
       "    </tr>\n",
       "    <tr>\n",
       "      <th>997</th>\n",
       "      <td>1</td>\n",
       "      <td>13827</td>\n",
       "      <td>40</td>\n",
       "      <td>1</td>\n",
       "      <td>22</td>\n",
       "    </tr>\n",
       "    <tr>\n",
       "      <th>998</th>\n",
       "      <td>0</td>\n",
       "      <td>39039</td>\n",
       "      <td>16</td>\n",
       "      <td>1</td>\n",
       "      <td>6</td>\n",
       "    </tr>\n",
       "    <tr>\n",
       "      <th>999</th>\n",
       "      <td>2</td>\n",
       "      <td>42729</td>\n",
       "      <td>22</td>\n",
       "      <td>0</td>\n",
       "      <td>40</td>\n",
       "    </tr>\n",
       "  </tbody>\n",
       "</table>\n",
       "<p>1000 rows × 5 columns</p>\n",
       "</div>"
      ],
      "text/plain": [
       "     deficiencia    cpf  idade  visitante_tipo  tempo_medio_min\n",
       "0              0  47036     24               0               15\n",
       "1              0  46705     23               0               15\n",
       "2              0  42276     44               0               69\n",
       "3              1  43024     37               0               25\n",
       "4              2  36156     37               0               33\n",
       "..           ...    ...    ...             ...              ...\n",
       "995            2  20161     32               1              103\n",
       "996            1  19735     39               1               60\n",
       "997            1  13827     40               1               22\n",
       "998            0  39039     16               1                6\n",
       "999            2  42729     22               0               40\n",
       "\n",
       "[1000 rows x 5 columns]"
      ]
     },
     "execution_count": 12,
     "metadata": {},
     "output_type": "execute_result"
    }
   ],
   "source": [
    "df"
   ]
  },
  {
   "cell_type": "code",
   "execution_count": 13,
   "id": "4cf86d79",
   "metadata": {},
   "outputs": [],
   "source": [
    "clus = AgglomerativeClustering(linkage=\"complete\", \n",
    "                                 distance_threshold = None, \n",
    "                                 n_clusters=4)"
   ]
  },
  {
   "cell_type": "code",
   "execution_count": 14,
   "id": "a3e66e60",
   "metadata": {},
   "outputs": [],
   "source": [
    "df_train = df.drop(['cpf','deficiencia'],axis=1)"
   ]
  },
  {
   "cell_type": "code",
   "execution_count": 15,
   "id": "7144cc63",
   "metadata": {},
   "outputs": [
    {
     "data": {
      "text/plain": [
       "AgglomerativeClustering(linkage='complete', n_clusters=4)"
      ]
     },
     "execution_count": 15,
     "metadata": {},
     "output_type": "execute_result"
    }
   ],
   "source": [
    "clus.fit(df_train)"
   ]
  },
  {
   "cell_type": "code",
   "execution_count": 16,
   "id": "653119f0",
   "metadata": {},
   "outputs": [],
   "source": [
    "df['grupos'] = clus.labels_"
   ]
  },
  {
   "cell_type": "code",
   "execution_count": 17,
   "id": "c3dac377",
   "metadata": {},
   "outputs": [
    {
     "data": {
      "image/png": "[encoded data removed]",
      "text/plain": [
       "<Figure size 432x288 with 1 Axes>"
      ]
     },
     "metadata": {
      "needs_background": "light"
     },
     "output_type": "display_data"
    }
   ],
   "source": [
    "dend = shc.dendrogram(shc.linkage(df, method='complete'))"
   ]
  },
  {
   "cell_type": "code",
   "execution_count": 18,
   "id": "98b8b601",
   "metadata": {},
   "outputs": [
    {
     "data": {
      "text/html": [
       "<div>\n",
       "<style scoped>\n",
       "    .dataframe tbody tr th:only-of-type {\n",
       "        vertical-align: middle;\n",
       "    }\n",
       "\n",
       "    .dataframe tbody tr th {\n",
       "        vertical-align: top;\n",
       "    }\n",
       "\n",
       "    .dataframe thead th {\n",
       "        text-align: right;\n",
       "    }\n",
       "</style>\n",
       "<table border=\"1\" class=\"dataframe\">\n",
       "  <thead>\n",
       "    <tr style=\"text-align: right;\">\n",
       "      <th></th>\n",
       "      <th>count</th>\n",
       "      <th>mean</th>\n",
       "      <th>std</th>\n",
       "      <th>min</th>\n",
       "      <th>25%</th>\n",
       "      <th>50%</th>\n",
       "      <th>75%</th>\n",
       "      <th>max</th>\n",
       "    </tr>\n",
       "  </thead>\n",
       "  <tbody>\n",
       "    <tr>\n",
       "      <th>deficiencia</th>\n",
       "      <td>1000.0</td>\n",
       "      <td>0.976</td>\n",
       "      <td>0.814916</td>\n",
       "      <td>0.0</td>\n",
       "      <td>0.00</td>\n",
       "      <td>1.0</td>\n",
       "      <td>2.0</td>\n",
       "      <td>2.0</td>\n",
       "    </tr>\n",
       "    <tr>\n",
       "      <th>cpf</th>\n",
       "      <td>1000.0</td>\n",
       "      <td>29914.078</td>\n",
       "      <td>11750.374617</td>\n",
       "      <td>10069.0</td>\n",
       "      <td>19600.75</td>\n",
       "      <td>29825.5</td>\n",
       "      <td>40577.0</td>\n",
       "      <td>49999.0</td>\n",
       "    </tr>\n",
       "    <tr>\n",
       "      <th>idade</th>\n",
       "      <td>1000.0</td>\n",
       "      <td>31.930</td>\n",
       "      <td>10.226714</td>\n",
       "      <td>15.0</td>\n",
       "      <td>23.00</td>\n",
       "      <td>32.0</td>\n",
       "      <td>41.0</td>\n",
       "      <td>49.0</td>\n",
       "    </tr>\n",
       "    <tr>\n",
       "      <th>visitante_tipo</th>\n",
       "      <td>1000.0</td>\n",
       "      <td>0.500</td>\n",
       "      <td>0.500250</td>\n",
       "      <td>0.0</td>\n",
       "      <td>0.00</td>\n",
       "      <td>0.5</td>\n",
       "      <td>1.0</td>\n",
       "      <td>1.0</td>\n",
       "    </tr>\n",
       "    <tr>\n",
       "      <th>tempo_medio_min</th>\n",
       "      <td>1000.0</td>\n",
       "      <td>58.478</td>\n",
       "      <td>34.286252</td>\n",
       "      <td>1.0</td>\n",
       "      <td>29.00</td>\n",
       "      <td>56.0</td>\n",
       "      <td>89.0</td>\n",
       "      <td>120.0</td>\n",
       "    </tr>\n",
       "    <tr>\n",
       "      <th>grupos</th>\n",
       "      <td>1000.0</td>\n",
       "      <td>1.134</td>\n",
       "      <td>1.139887</td>\n",
       "      <td>0.0</td>\n",
       "      <td>0.00</td>\n",
       "      <td>1.0</td>\n",
       "      <td>2.0</td>\n",
       "      <td>3.0</td>\n",
       "    </tr>\n",
       "  </tbody>\n",
       "</table>\n",
       "</div>"
      ],
      "text/plain": [
       "                  count       mean           std      min       25%      50%  \\\n",
       "deficiencia      1000.0      0.976      0.814916      0.0      0.00      1.0   \n",
       "cpf              1000.0  29914.078  11750.374617  10069.0  19600.75  29825.5   \n",
       "idade            1000.0     31.930     10.226714     15.0     23.00     32.0   \n",
       "visitante_tipo   1000.0      0.500      0.500250      0.0      0.00      0.5   \n",
       "tempo_medio_min  1000.0     58.478     34.286252      1.0     29.00     56.0   \n",
       "grupos           1000.0      1.134      1.139887      0.0      0.00      1.0   \n",
       "\n",
       "                     75%      max  \n",
       "deficiencia          2.0      2.0  \n",
       "cpf              40577.0  49999.0  \n",
       "idade               41.0     49.0  \n",
       "visitante_tipo       1.0      1.0  \n",
       "tempo_medio_min     89.0    120.0  \n",
       "grupos               2.0      3.0  "
      ]
     },
     "execution_count": 18,
     "metadata": {},
     "output_type": "execute_result"
    }
   ],
   "source": [
    "df.describe().transpose()"
   ]
  },
  {
   "cell_type": "code",
   "execution_count": 19,
   "id": "9e521956",
   "metadata": {},
   "outputs": [],
   "source": [
    "faixas_etarias = [0,15,22,31,41,50]"
   ]
  },
  {
   "cell_type": "code",
   "execution_count": 20,
   "id": "0b375a31",
   "metadata": {},
   "outputs": [],
   "source": [
    "df['faixa_etaria'] = pd.cut(df['idade'], faixas_etarias)"
   ]
  },
  {
   "cell_type": "code",
   "execution_count": 21,
   "id": "5c26f16f",
   "metadata": {},
   "outputs": [
    {
     "data": {
      "text/plain": [
       "<AxesSubplot:xlabel='faixa_etaria'>"
      ]
     },
     "execution_count": 21,
     "metadata": {},
     "output_type": "execute_result"
    },
    {
     "data": {
      "image/png": "[encoded data removed]",
      "text/plain": [
       "<Figure size 432x288 with 1 Axes>"
      ]
     },
     "metadata": {
      "needs_background": "light"
     },
     "output_type": "display_data"
    }
   ],
   "source": [
    "pd.crosstab(df['faixa_etaria'], df['grupos']).plot()"
   ]
  },
  {
   "cell_type": "code",
   "execution_count": 22,
   "id": "17d68fc6",
   "metadata": {},
   "outputs": [],
   "source": [
    "faixa_tempo = [0,29,60,90,121]"
   ]
  },
  {
   "cell_type": "code",
   "execution_count": 23,
   "id": "08166d3c",
   "metadata": {},
   "outputs": [],
   "source": [
    "df['faixa_tempo'] = pd.cut(df['tempo_medio_min'], faixa_tempo)"
   ]
  },
  {
   "cell_type": "code",
   "execution_count": 24,
   "id": "0a041de2",
   "metadata": {},
   "outputs": [
    {
     "data": {
      "text/plain": [
       "<AxesSubplot:xlabel='faixa_tempo'>"
      ]
     },
     "execution_count": 24,
     "metadata": {},
     "output_type": "execute_result"
    },
    {
     "data": {
      "image/png": "[encoded data removed]",
      "text/plain": [
       "<Figure size 432x288 with 1 Axes>"
      ]
     },
     "metadata": {
      "needs_background": "light"
     },
     "output_type": "display_data"
    }
   ],
   "source": [
    "pd.crosstab(df['faixa_tempo'],df['grupos']).plot()"
   ]
  }
 ],
 "metadata": {
  "kernelspec": {
   "display_name": "Python 3 (ipykernel)",
   "language": "python",
   "name": "python3"
  },
  "language_info": {
   "codemirror_mode": {
    "name": "ipython",
    "version": 3
   },
   "file_extension": ".py",
   "mimetype": "text/x-python",
   "name": "python",
   "nbconvert_exporter": "python",
   "pygments_lexer": "ipython3",
   "version": "3.9.12"
  }
 },
 "nbformat": 4,
 "nbformat_minor": 5
}
